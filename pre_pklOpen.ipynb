{
 "cells": [
  {
   "cell_type": "code",
   "execution_count": 1,
   "id": "9df22ff4",
   "metadata": {},
   "outputs": [],
   "source": [
    "import pickle"
   ]
  },
  {
   "cell_type": "code",
   "execution_count": 2,
   "id": "3ddc04b7",
   "metadata": {},
   "outputs": [],
   "source": [
    "import os\n",
    "\n",
    "path = 'new2/NoPre/13330'\n",
    "\n",
    "folderfile = os.listdir(path)"
   ]
  },
  {
   "cell_type": "code",
   "execution_count": 7,
   "id": "c7fd70c0",
   "metadata": {},
   "outputs": [
    {
     "data": {
      "text/plain": [
       "['20200513412695_NoPre.pkl',\n",
       " '20200513412695_table.pkl',\n",
       " '20200513412695.txt',\n",
       " '20200731471206_table.pkl',\n",
       " '20200731471206_NoPre.pkl',\n",
       " '20200731471206.txt']"
      ]
     },
     "execution_count": 7,
     "metadata": {},
     "output_type": "execute_result"
    }
   ],
   "source": [
    "folderfile"
   ]
  },
  {
   "cell_type": "code",
   "execution_count": 17,
   "id": "1d6763e6",
   "metadata": {},
   "outputs": [],
   "source": [
    "out=path+\"/\"+folderfile[4]\n",
    "with open(out, 'rb') as p:\n",
    "    out_list=pickle.load(p)"
   ]
  },
  {
   "cell_type": "code",
   "execution_count": 14,
   "id": "f1c33699",
   "metadata": {},
   "outputs": [
    {
     "data": {
      "text/plain": [
       "['',\n",
       " '(注)None2021年3月期の連結業績予想につきましては、新型コロナウイルス感染拡大の当社業績への影響を考慮し、第2四半期(累計)の予想値を表示しておりますが、通期予想につきましては未定としております。通期予想につきましては、合理的な算定が可能となり次第、すみやかに開示いたします。None新型コロナウイルス感染拡大の影響としては、海外漁業の不振及び国内外で、巣ごもり消費へのシフトによる家庭用商品の販売拡大が見込まれる一方、外食や業務筋への販売、景気後退による高単価商材の販売不振を想定しています。None※None注記事項(1)期中における重要な子会社の異動(連結範囲の変更を伴う特定子会社の異動)無None(2)会計方針の変更・会計上の見積りの変更・修正再表示①None会計基準等の改正に伴う会計方針の変更無②None①以外の会計方針の変更NoneNoneNoneNoneNoneNoneNoneNoneNoneNoneNoneNoneNone無③None会計上の見積りの変更NoneNoneNoneNoneNoneNoneNoneNoneNoneNoneNoneNoneNoneNoneNone無④None修正再表示NoneNoneNoneNoneNoneNoneNoneNoneNoneNoneNoneNoneNoneNoneNoneNoneNoneNoneNoneNoneNoneNoneNoneNoneNone無None(3)発行済株式数(普通株式)(注)None2021年3月期の連結業績予想につきましては、新型コロナウイルス感染拡大の当社業績への影響を考慮し、第2四半期(累計)の予想値を表示しておりますが、通期予想につきましては未定としております。通期予想につきましては、合理的な算定が可能となり次第、すみやかに開示いたします。None新型コロナウイルス感染拡大の影響としては、海外漁業の不振及び国内外で、巣ごもり消費へのシフトによる家庭用商品の販売拡大が見込まれる一方、外食や業務筋への販売、景気後退による高単価商材の販売不振を想定しています。None※None注記事項(1)期中における重要な子会社の異動(連結範囲の変更を伴う特定子会社の異動)無None(2)会計方針の変更・会計上の見積りの変更・修正再表示①None会計基準等の改正に伴う会計方針の変更無②None①以外の会計方針の変更NoneNoneNoneNoneNoneNoneNoneNoneNoneNoneNoneNoneNone無③None会計上の見積りの変更NoneNoneNoneNoneNoneNoneNoneNoneNoneNoneNoneNoneNoneNoneNone無④None修正再表示NoneNoneNoneNoneNoneNoneNoneNoneNoneNoneNoneNoneNoneNoneNoneNoneNoneNoneNoneNoneNoneNoneNoneNoneNone無None(3)発行済株式数(普通株式)table\\ntrend\\n①None期末発行済株式数(自己株式を含む)\\n2020年3月期\\n52656910\\n株\\n2019年3月期\\n52656910\\n株trend\\n②None期末自己株式数\\n2020年3月期\\n32290\\n株\\n2019年3月期\\n30528\\n株trend\\n③None期中平均株式数\\n2020年3月期\\n52625542\\n株\\n2019年3月期\\n52627960\\n株trend']"
      ]
     },
     "execution_count": 14,
     "metadata": {},
     "output_type": "execute_result"
    }
   ],
   "source": [
    "out_list"
   ]
  },
  {
   "cell_type": "code",
   "execution_count": 18,
   "id": "9e90e526",
   "metadata": {},
   "outputs": [
    {
     "data": {
      "text/plain": [
       "['',\n",
       " '(注)直近に公表されている業績予想からの修正の有無有None2021年3月期第2四半期(累計)の連結業績予想の修正につきましては、本日(2020年8月3日)公表いたしました「業績予想の修正に関するお知らせ」をご覧ください。Noneなお、2021年3月期の通期連結業績予想につきましては、新型コロナウイルス感染拡大について予断を許さない状況であり、業績予想が困難なことから、今後、適切かつ合理的な予想が算定可能となった時点で速やかに公表いたします。None※None注記事項(1)当四半期連結累計期間における重要な子会社の異動(連結範囲の変更を伴う特定子会社の異動)無None(2)四半期連結財務諸表の作成に特有の会計処理の適用有(注)詳細は、〔添付資料〕Ｐ.6「2.四半期連結財務諸表及び主な注記(3)四半期連結財務諸表に関する注記事項(四半期連結財務諸表の作成に特有の会計処理の適用)」をご覧ください。None(3)会計方針の変更・会計上の見積りの変更・修正再表示①None会計基準等の改正に伴う会計方針の変更NoneNoneNoneNoneNoneNoneNone無②None①以外の会計方針の変更NoneNoneNoneNoneNoneNoneNoneNoneNoneNoneNoneNoneNoneNoneNoneNoneNoneNoneNoneNoneNone無③None会計上の見積りの変更NoneNoneNoneNoneNoneNoneNoneNoneNoneNoneNoneNoneNoneNoneNoneNoneNoneNoneNoneNoneNoneNoneNone無④None修正再表示NoneNoneNoneNoneNoneNoneNoneNoneNoneNoneNoneNoneNoneNoneNoneNoneNoneNoneNoneNoneNoneNoneNoneNoneNoneNoneNoneNoneNoneNoneNoneNoneNone無None(4)発行済株式数(普通株式)(注)直近に公表されている業績予想からの修正の有無有None2021年3月期第2四半期(累計)の連結業績予想の修正につきましては、本日(2020年8月3日)公表いたしました「業績予想の修正に関するお知らせ」をご覧ください。Noneなお、2021年3月期の通期連結業績予想につきましては、新型コロナウイルス感染拡大について予断を許さない状況であり、業績予想が困難なことから、今後、適切かつ合理的な予想が算定可能となった時点で速やかに公表いたします。None※None注記事項(1)当四半期連結累計期間における重要な子会社の異動(連結範囲の変更を伴う特定子会社の異動)無None(2)四半期連結財務諸表の作成に特有の会計処理の適用有(注)詳細は、〔添付資料〕Ｐ.6「2.四半期連結財務諸表及び主な注記(3)四半期連結財務諸表に関する注記事項(四半期連結財務諸表の作成に特有の会計処理の適用)」をご覧ください。None(3)会計方針の変更・会計上の見積りの変更・修正再表示①None会計基準等の改正に伴う会計方針の変更NoneNoneNoneNoneNoneNoneNone無②None①以外の会計方針の変更NoneNoneNoneNoneNoneNoneNoneNoneNoneNoneNoneNoneNoneNoneNoneNoneNoneNoneNoneNoneNone無③None会計上の見積りの変更NoneNoneNoneNoneNoneNoneNoneNoneNoneNoneNoneNoneNoneNoneNoneNoneNoneNoneNoneNoneNoneNoneNone無④None修正再表示NoneNoneNoneNoneNoneNoneNoneNoneNoneNoneNoneNoneNoneNoneNoneNoneNoneNoneNoneNoneNoneNoneNoneNoneNoneNoneNoneNoneNoneNoneNoneNoneNone無None(4)発行済株式数(普通株式)table\\ntrend\\n①None期末発行済株式数(自己株式を含む)\\nNone2021年3月期1Ｑ\\n52656910\\n株\\nNone2020年3月期\\n52656910\\n株trend\\n②None期末自己株式数\\nNone2021年3月期1Ｑ\\n32663\\n株\\nNone2020年3月期\\n32290\\n株trend\\n③None期中平均株式数(四半期累計)\\nNone2021年3月期1Ｑ\\n52624477\\n株\\nNone2020年3月期1Ｑ\\n52626189\\n株trend']"
      ]
     },
     "execution_count": 18,
     "metadata": {},
     "output_type": "execute_result"
    }
   ],
   "source": [
    "out_list"
   ]
  },
  {
   "cell_type": "code",
   "execution_count": 3,
   "id": "0eb3ea23",
   "metadata": {},
   "outputs": [],
   "source": [
    "import csv\n",
    "import pandas as pd\n"
   ]
  },
  {
   "cell_type": "code",
   "execution_count": 4,
   "id": "541be397",
   "metadata": {},
   "outputs": [],
   "source": [
    "csv = pd.read_csv(\"new2/test.csv\")"
   ]
  },
  {
   "cell_type": "code",
   "execution_count": 5,
   "id": "879380b7",
   "metadata": {},
   "outputs": [
    {
     "data": {
      "text/html": [
       "<div>\n",
       "<style scoped>\n",
       "    .dataframe tbody tr th:only-of-type {\n",
       "        vertical-align: middle;\n",
       "    }\n",
       "\n",
       "    .dataframe tbody tr th {\n",
       "        vertical-align: top;\n",
       "    }\n",
       "\n",
       "    .dataframe thead th {\n",
       "        text-align: right;\n",
       "    }\n",
       "</style>\n",
       "<table border=\"1\" class=\"dataframe\">\n",
       "  <thead>\n",
       "    <tr style=\"text-align: right;\">\n",
       "      <th></th>\n",
       "      <th>Unnamed: 0</th>\n",
       "      <th>0</th>\n",
       "      <th>1</th>\n",
       "      <th>2</th>\n",
       "      <th>3</th>\n",
       "      <th>4</th>\n",
       "      <th>5</th>\n",
       "      <th>6</th>\n",
       "      <th>7</th>\n",
       "      <th>8</th>\n",
       "    </tr>\n",
       "  </thead>\n",
       "  <tbody>\n",
       "    <tr>\n",
       "      <th>0</th>\n",
       "      <td>None</td>\n",
       "      <td>百万円</td>\n",
       "      <td>％</td>\n",
       "      <td>百万円</td>\n",
       "      <td>％</td>\n",
       "      <td>百万円</td>\n",
       "      <td>％</td>\n",
       "      <td>百万円</td>\n",
       "      <td>％</td>\n",
       "      <td>円銭</td>\n",
       "    </tr>\n",
       "    <tr>\n",
       "      <th>1</th>\n",
       "      <td>第2四半期(累計)</td>\n",
       "      <td>28400</td>\n",
       "      <td>0.6</td>\n",
       "      <td>3900</td>\n",
       "      <td>-30.4</td>\n",
       "      <td>4100</td>\n",
       "      <td>-30.2</td>\n",
       "      <td>2900</td>\n",
       "      <td>-32.9</td>\n",
       "      <td>64.44</td>\n",
       "    </tr>\n",
       "    <tr>\n",
       "      <th>2</th>\n",
       "      <td>通期</td>\n",
       "      <td>62000</td>\n",
       "      <td>0.3</td>\n",
       "      <td>6700</td>\n",
       "      <td>-13.0</td>\n",
       "      <td>7100</td>\n",
       "      <td>-13.9</td>\n",
       "      <td>5100</td>\n",
       "      <td>-16.6</td>\n",
       "      <td>113.33</td>\n",
       "    </tr>\n",
       "    <tr>\n",
       "      <th>3</th>\n",
       "      <td>index</td>\n",
       "      <td>売上高</td>\n",
       "      <td>売上高</td>\n",
       "      <td>営業利益</td>\n",
       "      <td>営業利益</td>\n",
       "      <td>経常利益</td>\n",
       "      <td>経常利益</td>\n",
       "      <td>親会社株主に帰属する当期純利益</td>\n",
       "      <td>親会社株主に帰属する当期純利益</td>\n",
       "      <td>1株当たり当期純利益</td>\n",
       "    </tr>\n",
       "  </tbody>\n",
       "</table>\n",
       "</div>"
      ],
      "text/plain": [
       "  Unnamed: 0      0    1     2      3     4      5                6  \\\n",
       "0       None    百万円    ％   百万円      ％   百万円      ％              百万円   \n",
       "1  第2四半期(累計)  28400  0.6  3900  -30.4  4100  -30.2             2900   \n",
       "2         通期  62000  0.3  6700  -13.0  7100  -13.9             5100   \n",
       "3      index    売上高  売上高  営業利益   営業利益  経常利益   経常利益  親会社株主に帰属する当期純利益   \n",
       "\n",
       "                 7           8  \n",
       "0                ％          円銭  \n",
       "1            -32.9       64.44  \n",
       "2            -16.6      113.33  \n",
       "3  親会社株主に帰属する当期純利益  1株当たり当期純利益  "
      ]
     },
     "execution_count": 5,
     "metadata": {},
     "output_type": "execute_result"
    }
   ],
   "source": [
    "csv"
   ]
  },
  {
   "cell_type": "code",
   "execution_count": 8,
   "id": "2bdb0f23",
   "metadata": {},
   "outputs": [],
   "source": [
    "csv.to_csv(\"new2/test2.csv\",encoding = \"cp932\")"
   ]
  },
  {
   "cell_type": "code",
   "execution_count": null,
   "id": "9a76627a",
   "metadata": {},
   "outputs": [],
   "source": []
  }
 ],
 "metadata": {
  "kernelspec": {
   "display_name": "Python 3 (ipykernel)",
   "language": "python",
   "name": "python3"
  },
  "language_info": {
   "codemirror_mode": {
    "name": "ipython",
    "version": 3
   },
   "file_extension": ".py",
   "mimetype": "text/x-python",
   "name": "python",
   "nbconvert_exporter": "python",
   "pygments_lexer": "ipython3",
   "version": "3.8.8"
  }
 },
 "nbformat": 4,
 "nbformat_minor": 5
}
